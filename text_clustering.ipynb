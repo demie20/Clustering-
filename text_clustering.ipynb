{
  "nbformat": 4,
  "nbformat_minor": 0,
  "metadata": {
    "colab": {
      "name": "text-clustering.ipynb",
      "provenance": [],
      "authorship_tag": "ABX9TyPsaeOy37naP0+8DSO0DBI5",
      "include_colab_link": true
    },
    "kernelspec": {
      "name": "python3",
      "display_name": "Python 3"
    },
    "language_info": {
      "name": "python"
    }
  },
  "cells": [
    {
      "cell_type": "markdown",
      "metadata": {
        "id": "view-in-github",
        "colab_type": "text"
      },
      "source": [
        "<a href=\"https://colab.research.google.com/github/demie20/Clustering-/blob/main/text_clustering.ipynb\" target=\"_parent\"><img src=\"https://colab.research.google.com/assets/colab-badge.svg\" alt=\"Open In Colab\"/></a>"
      ]
    },
    {
      "cell_type": "code",
      "metadata": {
        "id": "o_RYPsmnnv6f"
      },
      "source": [
        "from sklearn.feature_extraction.text import TfidfVectorizer\n",
        "from sklearn.cluster import KMeans\n",
        "from sklearn.metrics import adjusted_rand_score"
      ],
      "execution_count": 1,
      "outputs": []
    },
    {
      "cell_type": "code",
      "metadata": {
        "id": "xDa_j5SmoAai"
      },
      "source": [
        "documents = [\"This little kitty came to play when I was eating at a restaurant.\",\n",
        "             \"Merley has the best squooshy kitten belly.\",\n",
        "             \"Google Translate app is incredible.\",\n",
        "             \"If you open 100 tab in google you get a smiley face.\",\n",
        "             \"Best cat photo I've ever taken.\",\n",
        "             \"Climbing ninja cat.\",\n",
        "             \"Impressed with google map feedback.\",\n",
        "             \"Key promoter extension for Google Chrome.\"]\n"
      ],
      "execution_count": 3,
      "outputs": []
    },
    {
      "cell_type": "code",
      "metadata": {
        "colab": {
          "base_uri": "https://localhost:8080/"
        },
        "id": "AkjMceJUoM20",
        "outputId": "0a00c2b7-7d67-413a-df4e-7893bf5f64ef"
      },
      "source": [
        "vectorizer = TfidfVectorizer(stop_words='english')\n",
        "X = vectorizer.fit_transform(documents)\n",
        "\n",
        "true_k = 2\n",
        "model = KMeans(n_clusters=true_k, init='k-means++', max_iter=100, n_init=1)\n",
        "model.fit(X)\n",
        "print(\"Top terms per cluster:\")\n",
        "order_centroids = model.cluster_centers_.argsort()[:, ::-1]\n",
        "terms = vectorizer.get_feature_names()\n",
        "for i in range(true_k):\n",
        "    print(\"Cluster %d:\" % i),\n",
        "    for ind in order_centroids[i, :10]:\n",
        "        print(' %s' % terms[ind]),\n",
        "    print\n",
        "    print(\"\\n\")\n",
        "print(\"Prediction\")\n"
      ],
      "execution_count": 4,
      "outputs": [
        {
          "output_type": "stream",
          "name": "stdout",
          "text": [
            "Top terms per cluster:\n",
            "Cluster 0:\n",
            " cat\n",
            " best\n",
            " climbing\n",
            " ninja\n",
            " ve\n",
            " photo\n",
            " taken\n",
            " belly\n",
            " merley\n",
            " kitten\n",
            "\n",
            "\n",
            "Cluster 1:\n",
            " google\n",
            " feedback\n",
            " map\n",
            " app\n",
            " impressed\n",
            " incredible\n",
            " translate\n",
            " key\n",
            " extension\n",
            " chrome\n",
            "\n",
            "\n",
            "Prediction\n"
          ]
        }
      ]
    },
    {
      "cell_type": "code",
      "metadata": {
        "colab": {
          "base_uri": "https://localhost:8080/",
          "height": 260
        },
        "id": "oAjbeS7BoPmQ",
        "outputId": "c1537d67-ac9c-47ad-8b57-0b541315da79"
      },
      "source": [
        "Y = vectorizer.transform([\"chrome browser to open.\"])\n",
        "prediction = model.predict(Y)\n",
        "print(prediction)\n",
        "\n",
        "Y = vectorizer.transform([\"My cat is hungry.\"])\n",
        "prediction = model.predict(Y)\n",
        "print(prediction)\n",
        "\n",
        "\n",
        "#image using clustering\n",
        "import numpy as np\n",
        "import matplotlib.pyplot as plt\n",
        "import cv2\n",
        " \n",
        "%matplotlib inline\n",
        " \n",
        "# Read in the image\n",
        "image = cv2.imread('/content/iris-clustering-kmeans.png')\n",
        " \n",
        "# Change color to RGB (from BGR)\n",
        "image = cv2.cvtColor(image, cv2.COLOR_BGR2RGB)\n",
        " \n",
        "plt.imshow(image)\n"
      ],
      "execution_count": 7,
      "outputs": [
        {
          "output_type": "stream",
          "name": "stdout",
          "text": [
            "[1]\n",
            "[0]\n"
          ]
        },
        {
          "output_type": "execute_result",
          "data": {
            "text/plain": [
              "<matplotlib.image.AxesImage at 0x7f26ee38c5d0>"
            ]
          },
          "metadata": {},
          "execution_count": 7
        },
        {
          "output_type": "display_data",
          "data": {
            "image/png": "[encoded data removed]",
            "text/plain": [
              "<Figure size 432x288 with 1 Axes>"
            ]
          },
          "metadata": {
            "needs_background": "light"
          }
        }
      ]
    },
    {
      "cell_type": "code",
      "metadata": {
        "id": "ZowPV51QoSO-"
      },
      "source": [
        ""
      ],
      "execution_count": null,
      "outputs": []
    }
  ]
}